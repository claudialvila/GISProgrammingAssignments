{
 "cells": [
  {
   "cell_type": "markdown",
   "metadata": {},
   "source": [
    "# Module 3 Quiz\n",
    "#### GIS 5103 | October 10, 2019\n",
    "#### When you complete the quiz: save and close your Notebook, then email it to [bdjohnson@fsu.edu](mailto:bdjohnson@fsu.edu)."
   ]
  },
  {
   "cell_type": "markdown",
   "metadata": {},
   "source": [
    "---"
   ]
  },
  {
   "cell_type": "markdown",
   "metadata": {},
   "source": [
    "1) In the following cell `c` has the value `None`. Why is this?"
   ]
  },
  {
   "cell_type": "code",
   "execution_count": 7,
   "metadata": {},
   "outputs": [
    {
     "name": "stdout",
     "output_type": "stream",
     "text": [
      "moneymoneymoney\n"
     ]
    }
   ],
   "source": [
    "def more(a):\n",
    "    b = a * 3\n",
    "    return b\n",
    "    \n",
    "c = more('money')\n",
    "print(c)"
   ]
  },
  {
   "cell_type": "markdown",
   "metadata": {
    "collapsed": true
   },
   "source": [
    "When the funciton was originally defined, it wasn't specified that it should return any value. "
   ]
  },
  {
   "cell_type": "markdown",
   "metadata": {},
   "source": [
    "---"
   ]
  },
  {
   "cell_type": "markdown",
   "metadata": {},
   "source": [
    "2) In the following function, `fruit` is a positional argument. Make `fruit` a keyword argument with a default value of `oranges`."
   ]
  },
  {
   "cell_type": "code",
   "execution_count": 2,
   "metadata": {},
   "outputs": [
    {
     "name": "stdout",
     "output_type": "stream",
     "text": [
      "I heart ORANGES\n"
     ]
    }
   ],
   "source": [
    "def heart(fruit = 'oranges'):\n",
    "    print('I heart', fruit.upper())\n",
    "    \n",
    "heart()"
   ]
  },
  {
   "cell_type": "markdown",
   "metadata": {},
   "source": [
    "---"
   ]
  },
  {
   "cell_type": "markdown",
   "metadata": {},
   "source": [
    "3) Run the following cell. Why is the first output `-56` and the second `pineapple`?"
   ]
  },
  {
   "cell_type": "code",
   "execution_count": 3,
   "metadata": {},
   "outputs": [
    {
     "name": "stdout",
     "output_type": "stream",
     "text": [
      "-56\n",
      "pineapple\n"
     ]
    }
   ],
   "source": [
    "flipped = 'pineapple'\n",
    "def flipper(val):\n",
    "    flipped = -val\n",
    "    print(flipped)\n",
    "    return flipped\n",
    "\n",
    "flipper(56)\n",
    "print(flipped)"
   ]
  },
  {
   "cell_type": "markdown",
   "metadata": {
    "collapsed": true
   },
   "source": [
    "The first output (-56) is a result of the code: print(flipped). In this case, it is printing the value of flipped designated within the function definition (flipped = -val). \n",
    "\n",
    "The second output (pinapple) is a result of the code: return flipped. In this case, it is referring back to the definition of the 'flipped' variable created outside of the function and returning that. \n",
    "\n",
    "This is happening because a two variables can have the same name and coexist while one is inside the function and the other is outside the function. I also believe this has something to do with passing by reference or passing by value. "
   ]
  },
  {
   "cell_type": "markdown",
   "metadata": {},
   "source": [
    "---"
   ]
  },
  {
   "cell_type": "markdown",
   "metadata": {},
   "source": [
    "4) The following cell creates the objects `x` and `y`. \n",
    "\n",
    "- Is `x` a \"class\" or an \"instance of a class\"?\n",
    "- Is `y` a \"class\" or an \"instance of a class\"?"
   ]
  },
  {
   "cell_type": "code",
   "execution_count": 4,
   "metadata": {},
   "outputs": [],
   "source": [
    "class x:\n",
    "    def __init__(self, singer):\n",
    "        self.singer = singer\n",
    "        \n",
    "y = x('Whitney Houston')"
   ]
  },
  {
   "cell_type": "markdown",
   "metadata": {
    "collapsed": true
   },
   "source": [
    "x is a class, y is an instance of x"
   ]
  },
  {
   "cell_type": "markdown",
   "metadata": {},
   "source": [
    "---"
   ]
  },
  {
   "cell_type": "markdown",
   "metadata": {},
   "source": [
    "5) Print the `established` from the `nd` object created in the cell below."
   ]
  },
  {
   "cell_type": "code",
   "execution_count": 5,
   "metadata": {},
   "outputs": [],
   "source": [
    "class University:\n",
    "    def __init__(self, name, established):\n",
    "        self.name = name\n",
    "        self.established = established\n",
    "\n",
    "nd = University(\"Notre Dame\", \"1842\")"
   ]
  },
  {
   "cell_type": "code",
   "execution_count": 6,
   "metadata": {},
   "outputs": [
    {
     "data": {
      "text/plain": [
       "'1842'"
      ]
     },
     "execution_count": 6,
     "metadata": {},
     "output_type": "execute_result"
    }
   ],
   "source": [
    "nd.established"
   ]
  },
  {
   "cell_type": "markdown",
   "metadata": {},
   "source": [
    "---"
   ]
  },
  {
   "cell_type": "markdown",
   "metadata": {},
   "source": [
    "__Don't forget to Save before emailing the quiz.__"
   ]
  }
 ],
 "metadata": {
  "anaconda-cloud": {},
  "kernelspec": {
   "display_name": "Python 3",
   "language": "python",
   "name": "python3"
  },
  "language_info": {
   "codemirror_mode": {
    "name": "ipython",
    "version": 3
   },
   "file_extension": ".py",
   "mimetype": "text/x-python",
   "name": "python",
   "nbconvert_exporter": "python",
   "pygments_lexer": "ipython3",
   "version": "3.7.1"
  }
 },
 "nbformat": 4,
 "nbformat_minor": 1
}
