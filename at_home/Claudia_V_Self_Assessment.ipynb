{
 "cells": [
  {
   "cell_type": "markdown",
   "metadata": {},
   "source": [
    "# Self-assesment"
   ]
  },
  {
   "cell_type": "markdown",
   "metadata": {},
   "source": [
    "**Post-assessment reflection: Now that I have completed this assessment, I have gotten a chance to review and improve my understanding in sections that I never quite got in the first place, and I was able to pick up on things that I completely missed the first time around. Though this exercise took a lot of time, it was really helpful in highlighthing what my strengths and weaknesses are."
   ]
  },
  {
   "cell_type": "markdown",
   "metadata": {},
   "source": [
    "## At Home 2: Variables and Operators"
   ]
  },
  {
   "cell_type": "markdown",
   "metadata": {},
   "source": [
    "### Statements - 5"
   ]
  },
  {
   "cell_type": "markdown",
   "metadata": {},
   "source": [
    "A statement refers to pretty much anything that you ask the computer to do. "
   ]
  },
  {
   "cell_type": "markdown",
   "metadata": {},
   "source": [
    "### Variables and Values - 5"
   ]
  },
  {
   "cell_type": "markdown",
   "metadata": {},
   "source": [
    "At Home example: x = 10 or name= 'Joe'. \n",
    "'x' is the variable and 10 is the value. \n",
    "'name' is the variable and Joe is the value. "
   ]
  },
  {
   "cell_type": "markdown",
   "metadata": {},
   "source": [
    "** I am also aware that there are rules about what a variable can be. "
   ]
  },
  {
   "cell_type": "markdown",
   "metadata": {},
   "source": [
    "### Types of Objects - 4"
   ]
  },
  {
   "cell_type": "markdown",
   "metadata": {},
   "source": [
    "Python is an object-oriented programming language so almost anything in Python is an object. Object types include: Numbers, Strings, Lists, Tuples, Lists, Dictionaries, and Sets. "
   ]
  },
  {
   "cell_type": "markdown",
   "metadata": {},
   "source": [
    "I understand what each object type is and how to create them, though the exact utility of each set is still a little blurry to me. "
   ]
  },
  {
   "cell_type": "markdown",
   "metadata": {},
   "source": [
    "### Operators and Operands - 5"
   ]
  },
  {
   "cell_type": "markdown",
   "metadata": {},
   "source": [
    "The operators are symbols with a certain functionality that can be applied to values, or the operands. I feel very comfortable with this idea and what each operator does.  "
   ]
  },
  {
   "cell_type": "markdown",
   "metadata": {},
   "source": [
    "### Using Objects - 4"
   ]
  },
  {
   "cell_type": "markdown",
   "metadata": {},
   "source": [
    "Overall,I feel very comfortable with using objects. I am only rating this a 4 to refer to my lack of comfort with the most recent object type we've learned about: classes. "
   ]
  },
  {
   "cell_type": "markdown",
   "metadata": {},
   "source": [
    "### Using Modules - 4"
   ]
  },
  {
   "cell_type": "markdown",
   "metadata": {},
   "source": [
    "I understand the idea of importing modules and that each module has a certain type of functionality. However, I don't really understand what the modules are for and how to know when you need one and when. I assume this type of knowledge just comes with experience, though. "
   ]
  },
  {
   "cell_type": "markdown",
   "metadata": {},
   "source": [
    "### Comments - 4"
   ]
  },
  {
   "cell_type": "markdown",
   "metadata": {},
   "source": [
    "These are something that I haven't really been using until about last week. I don't know how I skimmed past this before, but this is definitely helpful in keeping track of what you're doing in the code. "
   ]
  },
  {
   "cell_type": "markdown",
   "metadata": {},
   "source": [
    "### Problem Solving - 3"
   ]
  },
  {
   "cell_type": "markdown",
   "metadata": {},
   "source": [
    "I am aware that there are different types of errors (syntax, runtime, semantic) and that knowing how to read error messages will make problem solving a much smoother process. \n",
    "\n",
    "Additionally, overall I feel confident in my ability to google until I figure out work-arounds, but I marked my understanding at a '3' because I am still a newbie and problem-solving may be a rockier road for me than the more experienced programmer. "
   ]
  },
  {
   "cell_type": "markdown",
   "metadata": {},
   "source": [
    "## At Home 3 - Sequences and Containers"
   ]
  },
  {
   "cell_type": "markdown",
   "metadata": {},
   "source": [
    "### Sequences - 4"
   ]
  },
  {
   "cell_type": "markdown",
   "metadata": {},
   "source": [
    "I understand strings and lists pretty well. Up until now, I have been still been pretty confused about exactly what a tuple is, though going through the homework again is helping me pick up on things that I didn't get the first time. \n",
    "\n",
    "Also, I know that different symbols are used to create the different sequences types, but off the top of my head, I don't have that memorized. At this point, it is still something that I have to google or look back in my notes for. I expect that to become second nature with time though. \n",
    "\n",
    "Another thing to acknowledge is that I understand that operators act differently on strings and lists"
   ]
  },
  {
   "cell_type": "markdown",
   "metadata": {},
   "source": [
    "### Mutable v Immutable - 4"
   ]
  },
  {
   "cell_type": "markdown",
   "metadata": {},
   "source": [
    "I am aware what \"mutable\" v \"immutable\" means, but I still get confused about which types of objects are mutable or immutable. \n",
    "\n",
    "I suppose one helpful way to think about it is why an object may or may not be mutable. For example, strings are immutable. That makes sense when I think about the following example: string = 'string'. If I were to change a any value in that string, it would no longer say the word that I originally intended for it to say. \n",
    "\n",
    "However, a list, for example, IS mutable because it is simply a list of values. In certain instances, the ability to change those values may be important. Let's say there is a list that states the ages of me and everyone in my family. Once someone's birthday comes around, the value indicating their age needs to be updated. "
   ]
  },
  {
   "cell_type": "markdown",
   "metadata": {},
   "source": [
    "### Lists and Tuples - 5"
   ]
  },
  {
   "cell_type": "markdown",
   "metadata": {},
   "source": [
    "Lists and tuples are pretty much the same thing, but lists are mutable and tuples are immutable. I used to get confused about this, but I suppose it makes sense that a tuple is like a string with numbers. Like maybe someone's ID code. That would be a tuple, because it is a list that cannot be changed, otherwise it wouldn't indicate the same thing. \n",
    "\n",
    "Also, now that I just reviewed these, I was reminded that lists are made with brackets and tuples are made with parentheses. Good to note. "
   ]
  },
  {
   "cell_type": "markdown",
   "metadata": {},
   "source": [
    "### Indexing and slicing - 5"
   ]
  },
  {
   "cell_type": "markdown",
   "metadata": {},
   "source": [
    "Brackets are used to find an element within a certain location in a list, tuple, or string. I feel fairly confident in the various techniques used to to find certain elements(ie string[0] or string[len(s)-2]). "
   ]
  },
  {
   "cell_type": "markdown",
   "metadata": {},
   "source": [
    "### Methods - 3"
   ]
  },
  {
   "cell_type": "markdown",
   "metadata": {},
   "source": [
    "Different method examples were mentioned for each sequence and container type. I feel clear on what methods are for the most part, but could definitely spend more time on knowing how to properly execute them. \n",
    "\n",
    "Also, I know we are supposed to use \"dir()\" to review the different methods available to us within an object, but I feel like there is a disconnect there still and I can't quite put my finger on it. "
   ]
  },
  {
   "cell_type": "markdown",
   "metadata": {},
   "source": [
    "### Sets - 4"
   ]
  },
  {
   "cell_type": "markdown",
   "metadata": {},
   "source": [
    "Technically I can list all the characteristics of a set, but I don't think it really has ever stuck with me. Reviewing it now is giving a chance for it all to sink in again, though I'm still going to keep my rating at a 3, because I think it is important that I continue to revisit this notebook. \n",
    "\n",
    "I also had forgotten that sets do not hold space for any unique elements, which is important to remember as that object type has a specific utility. I had struggled with this concept in a mini project before, and reviewing this notebook just reminded me of that. (Will discuss further troubles with mini-project in a different section). "
   ]
  },
  {
   "cell_type": "markdown",
   "metadata": {},
   "source": [
    "### Dictionaries - 4"
   ]
  },
  {
   "cell_type": "markdown",
   "metadata": {},
   "source": [
    "I understand the structure of dictionaries. You have a key and each key has at least 1 value (but can, and likely does, have more). However, in the distances mini project, I struggled a lot with the dictionary (in conjunction with the for loops). I think it's just a matter of practice in understanding how to effectively call on keys and values and pass these through functions."
   ]
  },
  {
   "cell_type": "markdown",
   "metadata": {},
   "source": [
    "### More Operators - 5"
   ]
  },
  {
   "cell_type": "markdown",
   "metadata": {},
   "source": [
    "In this section, we were introduced to two membership operators (in, not in) and three logical operators (and, or, not). \n",
    "\n",
    "All of these operators return a True or False response. "
   ]
  },
  {
   "cell_type": "markdown",
   "metadata": {},
   "source": [
    "### Test Yourself - 5"
   ]
  },
  {
   "cell_type": "markdown",
   "metadata": {},
   "source": [
    "I correctly guessed what each object type was. Also, I think I originally missed the call to comment the type next to each object, but that is just further proof that I really never got the whole \"commenting out\" memo in the first place somehow. \n",
    "\n",
    "Essentially a list and tuple are the same thing, but lists are mutable and tuples are immutable. \n",
    "\n",
    "var1[1][1] to slice out the second element from the second list"
   ]
  },
  {
   "cell_type": "markdown",
   "metadata": {},
   "source": [
    "## At Home 4 - Control and Flow"
   ]
  },
  {
   "cell_type": "markdown",
   "metadata": {},
   "source": [
    "### Flow Control"
   ]
  },
  {
   "cell_type": "markdown",
   "metadata": {},
   "source": [
    "Flow: the way that Python marches through each script line by line, executing each line as it comes to it> \n",
    "\n",
    "The flow of the script can be controlled with various statements. "
   ]
  },
  {
   "cell_type": "markdown",
   "metadata": {},
   "source": [
    "### If....elif....else - 4"
   ]
  },
  {
   "cell_type": "markdown",
   "metadata": {},
   "source": [
    "Overall I understand the concept - this allows your code to make choices. But I remember in practice, I had issues with having this work 100% of the time. In simple scenarios, I have it down. But once the calls get more complicated, I have a harder time remembering which variables need to be called where. "
   ]
  },
  {
   "cell_type": "markdown",
   "metadata": {},
   "source": [
    "### Indentation - 5"
   ]
  },
  {
   "cell_type": "markdown",
   "metadata": {},
   "source": [
    "The indentation makes so much sense to me, as a visual person, so I get this concept 100%. "
   ]
  },
  {
   "cell_type": "markdown",
   "metadata": {},
   "source": [
    "### Truth - telling - 5"
   ]
  },
  {
   "cell_type": "markdown",
   "metadata": {},
   "source": [
    "False, None, 0, and empty sequences or containers evaluate to false, while everything else evaluates to 0. After running through the examples again, I'd say I've got it! "
   ]
  },
  {
   "cell_type": "markdown",
   "metadata": {},
   "source": [
    "### While Loops and For Loops - 3.5"
   ]
  },
  {
   "cell_type": "markdown",
   "metadata": {},
   "source": [
    "I am clear on the concept of while and for loops, but the execution of more complicated while loops still elude me. In one of the mini project where we were required to write nested for loops, I had a hard time keeping track of which variables needed to be called when. Though I struggled through it, I feel like I came out knowing a little better how to think like a computer. I just need to sharpen those skills a little more and I should be fine. "
   ]
  },
  {
   "cell_type": "markdown",
   "metadata": {},
   "source": [
    "### Tips and Tricks - 1"
   ]
  },
  {
   "cell_type": "markdown",
   "metadata": {},
   "source": [
    "Enumerate - this functions returns two values on a pass over a sequence - I have no idea what this means and I didn't realize this was a point of weakness until now. I will need to ask about this in person. \n",
    "\n",
    "List comprehension - I understand that this is supposed to be a short and sweet way of writing a for loop when you know the result is a list, but I have yet to do this succesfully."
   ]
  },
  {
   "cell_type": "markdown",
   "metadata": {},
   "source": [
    "### Fine- tuned flow control - 4"
   ]
  },
  {
   "cell_type": "markdown",
   "metadata": {},
   "source": [
    "I understand the ideas pretty well behind the break, continue, and pass functions. The only reason I am leaving this as a 4 and not a 5 is because I don't think it's really stuck in my mind, so I may forget to use these functions in the future. Pointing this out now will hopefully help me remember these when they are useful."
   ]
  },
  {
   "cell_type": "markdown",
   "metadata": {},
   "source": [
    "### Test Yourself"
   ]
  },
  {
   "cell_type": "markdown",
   "metadata": {},
   "source": [
    "#1 - 5\n",
    "\n",
    "#2 - 5\n",
    "\n",
    "#3 - 5\n",
    "\n",
    "#4 - 5\n",
    "\n",
    "#5 - 5\n",
    "\n",
    "#6 - 5\n",
    "\n",
    "#7 - 3.5 (while the material is still fresh in my mind, I can do it, but I feel like there is still a lack of deeper understanding). \n",
    "\n",
    "#8 - 4 (I think I generally grasp when a for loop is needed and when a while loop is needed). "
   ]
  },
  {
   "cell_type": "markdown",
   "metadata": {},
   "source": [
    "## At Home 5 - Object-oriented programming, functions, and classes"
   ]
  },
  {
   "cell_type": "markdown",
   "metadata": {},
   "source": [
    "** I know wll preface this entire section with the fact that I feel the least confident on my abilities in this section than any other section we've covered so far. "
   ]
  },
  {
   "cell_type": "markdown",
   "metadata": {},
   "source": [
    "### Object - oriented programming - 3"
   ]
  },
  {
   "cell_type": "markdown",
   "metadata": {},
   "source": [
    "I guess I understand technically what everything in this section says, however, I have no other programming experience, so I don't know what programming looks like when it isn't object-oriented. I will probably ask about this in person, so  I fully understand why the listed benefits are so...beneficial. "
   ]
  },
  {
   "cell_type": "markdown",
   "metadata": {},
   "source": [
    "### Functions - 4"
   ]
  },
  {
   "cell_type": "markdown",
   "metadata": {},
   "source": [
    "Overall, I think I get the idea behind this, I just need to work on remembering the proper syntax for creating and defining a function. I am really excited to get better at this. I feel like I was interested in python in the first place, because I wanted to be able to create more powerful GIS workflows, and I feel like knowing how to create my own workflows will be part of making that happen. \n",
    "\n",
    "As with other things we've covered so far, I understand the concept in theory, but then more complicated scenarios arise and I get confused. For example, one of the function examples has multiple arguments and includes a for loop. It just takes a lot of time for me to read through it and understand exactly what is going on. "
   ]
  },
  {
   "cell_type": "markdown",
   "metadata": {},
   "source": [
    "### Function argument types - 4"
   ]
  },
  {
   "cell_type": "markdown",
   "metadata": {},
   "source": [
    "Positional and keyword: I believe I understand these, but I'm going to write it out here just to be sure. \n",
    "\n",
    "Positional arguments need to be placed in a specific location in the parentheses. \n",
    "\n",
    "Keyword arguments allow default values to be assigned to said arguments. This means that if a keyword is called out of its original position, the function will still execute because the code is clear on what is what (unless a positional argument is left out of place). "
   ]
  },
  {
   "cell_type": "markdown",
   "metadata": {},
   "source": [
    "### Classes - 2"
   ]
  },
  {
   "cell_type": "markdown",
   "metadata": {},
   "source": [
    "With a lot of hand-holding, I can (and did!) get through a homework related to classes, but the honest truth is I am still pretty confused about them. \n",
    "\n",
    "If you were to ask me to define what an instance of a class is, I think I could spit out the right words, but in practice I still have a lot of confusion. \n",
    "\n",
    "I do, however, think that I've been able to grasp the proper syntax for creating a class (including attributes AND methods)."
   ]
  },
  {
   "cell_type": "markdown",
   "metadata": {},
   "source": [
    "### Test Yourself"
   ]
  },
  {
   "cell_type": "markdown",
   "metadata": {},
   "source": [
    "#1 - 5\n",
    "\n",
    "#2 - 2 (though I was able to extract dodge from the list, I don't understand why the function is being assigned to a variable)\n",
    "\n",
    "#3 - 5\n",
    "\n",
    "#4 - 5\n",
    "\n",
    "#5 - 4 (The only one I am confused about is \"Given a city name, I want to download three variables from NOAA's API.\" I am tempted to say function, since the coder is trying to carry out a task, but I also worry if these variable are available as part of an instance in a class?)\n",
    "\n",
    "#6 - 5\n",
    "\n",
    "#7, 8, 9 - 3 (I was able to complete this problem, but this is when the material is still fresh and easily accesible. I know that left to my own devices, I would be very confused.)\n",
    "\n"
   ]
  },
  {
   "cell_type": "markdown",
   "metadata": {},
   "source": [
    "## Exercise 1A - 4"
   ]
  },
  {
   "cell_type": "markdown",
   "metadata": {},
   "source": [
    "Overall, I think my ability to think like a computer is pretty good, though I do get tripped up still with the more complicated calls. In particular, I felt very confident in my ability to carry out this exercise. "
   ]
  },
  {
   "cell_type": "markdown",
   "metadata": {},
   "source": [
    "## Exercise 1B - 3"
   ]
  },
  {
   "cell_type": "markdown",
   "metadata": {},
   "source": [
    "I feel the most comfortable writing code in Spyder. I find Jupyter notebook to be slightly more annoying to write in, but I understand just as much how to do anything there as well. \n",
    "\n",
    "I am still VERY confused about how to use the Python Command Line. I don't understand what it is or how to accomplish anything within that window.  "
   ]
  },
  {
   "cell_type": "markdown",
   "metadata": {},
   "source": [
    "## Exercise 2 A - 4"
   ]
  },
  {
   "cell_type": "markdown",
   "metadata": {},
   "source": [
    "This one just required answering questions about functions and why they do or do not work. I think I have a pretty decent understanding of variables and values, and at least in this exercise, was able to explain everything well. "
   ]
  },
  {
   "cell_type": "markdown",
   "metadata": {},
   "source": [
    "## Exercise 2B - 4"
   ]
  },
  {
   "cell_type": "markdown",
   "metadata": {},
   "source": [
    "Despite the general confusion I have surrounding classes, this task was simple enough that I was able to carry it out with very little headache. I did have to get some outside help (mostly youtube), but my base understanding of how to do it in the fist place wasn't too far off. \n",
    "\n",
    "I think I still get a little confused with functions (or in this case methods) and how the code block within it affects the variables outside of the function. "
   ]
  },
  {
   "cell_type": "markdown",
   "metadata": {},
   "source": [
    "## MiniProject 1A - 5"
   ]
  },
  {
   "cell_type": "markdown",
   "metadata": {},
   "source": [
    "For MiniProject 1A, I chose challenge 3: create a script that examines a list of numbers to see whether or not it contains duplicates. \n",
    "\n",
    "The funny part, was that had I gone ahead and completed the next \"at home\", I would've been fully prepared to complete it with the understanding of what was going on. Instead, I spent a lot of time googling and copying and pasting until something worked the way I wanted it to. It was only after I completed the next at home, that I understood not only that I did, in fact, complete the assigment well, but I finally understood *why* it was correct. \n",
    "\n",
    "This project focused on understanding object types and how to manipulate them, and overall, I feel pretty comfortable with that. "
   ]
  },
  {
   "cell_type": "markdown",
   "metadata": {},
   "source": [
    "## MiniProject 1B - 4"
   ]
  },
  {
   "cell_type": "markdown",
   "metadata": {},
   "source": [
    "Once it was over, I felt pretty comfortable with what was asked of us in this project. Points were taken off because of lack of care between integers and floating points. Noted. "
   ]
  },
  {
   "cell_type": "markdown",
   "metadata": {},
   "source": [
    "## MiniProject 2 - 3"
   ]
  },
  {
   "cell_type": "markdown",
   "metadata": {},
   "source": [
    "In the end, we completed this project, but it wasn't without A LOT of trouble first. Meanwhile, the end result was not perfect. \n",
    "\n",
    "The most confusing aspect was the nested for loops and starting each of those for loops with empty lists. I couldn't keep track of which variables needed to be called where. Also, creating multiple intermediate lists wasn't intuitive to me at the time. \n",
    "\n",
    "Additionally, I think I stil need to get used to dictionaries and how to use for loops with them. "
   ]
  },
  {
   "cell_type": "code",
   "execution_count": null,
   "metadata": {},
   "outputs": [],
   "source": []
  }
 ],
 "metadata": {
  "kernelspec": {
   "display_name": "Python 3",
   "language": "python",
   "name": "python3"
  },
  "language_info": {
   "codemirror_mode": {
    "name": "ipython",
    "version": 3
   },
   "file_extension": ".py",
   "mimetype": "text/x-python",
   "name": "python",
   "nbconvert_exporter": "python",
   "pygments_lexer": "ipython3",
   "version": "3.7.1"
  }
 },
 "nbformat": 4,
 "nbformat_minor": 2
}
